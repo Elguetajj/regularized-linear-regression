{
 "cells": [
  {
   "cell_type": "markdown",
   "id": "fatty-wheel",
   "metadata": {},
   "source": [
    "# Polynomic regularized linear regression\n"
   ]
  },
  {
   "cell_type": "code",
   "execution_count": 1,
   "id": "dedicated-aside",
   "metadata": {},
   "outputs": [],
   "source": [
    "import numpy as np\n",
    "import pandas as pd\n",
    "import matplotlib.pyplot as plt"
   ]
  },
  {
   "cell_type": "code",
   "execution_count": 2,
   "id": "intellectual-utility",
   "metadata": {},
   "outputs": [],
   "source": [
    "def linear_cost(X, y, theta):\n",
    "    h = X @ theta\n",
    "    return ((h - y) ** 2).sum() / (2*len(X))\n",
    "\n",
    "def linear_cost_gradient(X, y, theta):\n",
    "    h = X @ theta\n",
    "    return ((h - y).T @ X).T / (2*len(X))"
   ]
  },
  {
   "cell_type": "code",
   "execution_count": 2,
   "id": "extra-rogers",
   "metadata": {},
   "outputs": [],
   "source": [
    "def transform(X,degree):\n",
    "    m,n = X.shape\n",
    "    X_transformed = np.ones(m).reshape(m,1)\n",
    "    for i in range(n):\n",
    "        for j in range(1,degree+1):\n",
    "            X_transformed = np.hstack(\n",
    "                (\n",
    "                    X_transformed,\n",
    "                    (np.copy(X[:,i])**j).reshape(m,1)    \n",
    "                )\n",
    "            )  \n",
    "    return X_transformed"
   ]
  },
  {
   "cell_type": "code",
   "execution_count": 3,
   "id": "former-northwest",
   "metadata": {},
   "outputs": [],
   "source": [
    "def gradient_descent(\n",
    "    X,\n",
    "    y,\n",
    "    theta_0,\n",
    "    cost_function,\n",
    "    cost_function_gradient,\n",
    "    learning_rate=0.01,\n",
    "    threshold=0.001,\n",
    "    max_iter=1000\n",
    "):\n",
    "    \n",
    "    theta=theta_0\n",
    "    iteration = 0\n",
    "    costs=[]\n",
    "\n",
    "    while np.linalg.norm(cost_function_gradient(X,y,theta)) > threshold and iteration < max_iter:\n",
    "        iteration = iteration+1\n",
    "        theta = theta-(learning_rate*cost_function_gradient(X,y,theta))\n",
    "        costs.append(cost_function(X,y,theta))\n",
    "    \n",
    "    return theta,costs"
   ]
  },
  {
   "cell_type": "code",
   "execution_count": 43,
   "id": "turkish-nylon",
   "metadata": {},
   "outputs": [
    {
     "data": {
      "text/plain": [
       "array([[[ 1,  2]],\n",
       "\n",
       "       [[ 3,  4]],\n",
       "\n",
       "       [[ 5,  6]],\n",
       "\n",
       "       [[ 7,  8]],\n",
       "\n",
       "       [[ 9, 10]]])"
      ]
     },
     "execution_count": 43,
     "metadata": {},
     "output_type": "execute_result"
    }
   ],
   "source": [
    "def cross_validation_split(dataset, folds):\n",
    "    return np.array(np.split(np.copy(dataset),folds))\n",
    "\n",
    "\n",
    "xxx = np.array([1,2,3,4,5,6,7,8,9,10]).reshape(5,2)\n",
    "\n",
    "kkk = cross_validation_split(xxx,5)\n",
    "\n",
    "kkk"
   ]
  },
  {
   "cell_type": "code",
   "execution_count": 32,
   "id": "democratic-florist",
   "metadata": {},
   "outputs": [
    {
     "data": {
      "text/plain": [
       "(5, 1, 2)"
      ]
     },
     "execution_count": 32,
     "metadata": {},
     "output_type": "execute_result"
    }
   ],
   "source": [
    "kkk.shape"
   ]
  },
  {
   "cell_type": "code",
   "execution_count": 34,
   "id": "present-speed",
   "metadata": {},
   "outputs": [
    {
     "data": {
      "text/plain": [
       "array([[ 1,  2],\n",
       "       [ 3,  4],\n",
       "       [ 5,  6],\n",
       "       [ 7,  8],\n",
       "       [ 9, 10]])"
      ]
     },
     "execution_count": 34,
     "metadata": {},
     "output_type": "execute_result"
    }
   ],
   "source": [
    "uuu = kkk.reshape(5,2)\n",
    "uuu"
   ]
  },
  {
   "cell_type": "code",
   "execution_count": 46,
   "id": "closing-immunology",
   "metadata": {},
   "outputs": [
    {
     "data": {
      "text/plain": [
       "array([[[ 1,  2]],\n",
       "\n",
       "       [[ 5,  6]],\n",
       "\n",
       "       [[ 7,  8]],\n",
       "\n",
       "       [[ 9, 10]]])"
      ]
     },
     "execution_count": 46,
     "metadata": {},
     "output_type": "execute_result"
    }
   ],
   "source": [
    "ggg = np.delete(kkk,1,axis=0)\n",
    "ggg\n"
   ]
  },
  {
   "cell_type": "code",
   "execution_count": 39,
   "id": "drawn-supervisor",
   "metadata": {},
   "outputs": [
    {
     "data": {
      "text/plain": [
       "array([[[ 1,  2]],\n",
       "\n",
       "       [[ 5,  6]],\n",
       "\n",
       "       [[ 7,  8]],\n",
       "\n",
       "       [[ 9, 10]]])"
      ]
     },
     "execution_count": 39,
     "metadata": {},
     "output_type": "execute_result"
    }
   ],
   "source": [
    "def cross_validate(X,y,folds=5):\n",
    "    X_folded = cross_validation_split(X,folds)\n",
    "    y_folded = cross_validation_split(y,folds)\n",
    "    \n",
    "    for i in zip(X_folded,y_folded):\n",
    "        X_test = np.copy(X_folded[i])\n",
    "        y_test = np.copy(y_folded[i])\n",
    "        \n",
    "    \n",
    "    \n",
    "    "
   ]
  },
  {
   "cell_type": "code",
   "execution_count": 4,
   "id": "adapted-banks",
   "metadata": {},
   "outputs": [],
   "source": [
    "data = np.genfromtxt('./data/dat.csv', delimiter=',')\n",
    "x = data[:,0:2]\n",
    "y = data[:,2]"
   ]
  },
  {
   "cell_type": "code",
   "execution_count": 5,
   "id": "determined-label",
   "metadata": {},
   "outputs": [
    {
     "data": {
      "image/png": "[encoded data removed]",
      "text/plain": [
       "<Figure size 432x288 with 1 Axes>"
      ]
     },
     "metadata": {
      "needs_background": "light"
     },
     "output_type": "display_data"
    }
   ],
   "source": [
    "ax = plt.axes(projection='3d')\n",
    "ax.scatter3D(x[:,0], y, x[:,1], cmap='Greens');\n",
    "ax.set_xlabel('X1')\n",
    "ax.set_ylabel('y')\n",
    "ax.set_zlabel('X2')\n",
    "for i in range(0,90,30):\n",
    "        ax.view_init(elev=40, azim=i)\n",
    "        plt.savefig(\"fig%d.png\" % i)\n"
   ]
  },
  {
   "cell_type": "code",
   "execution_count": 7,
   "id": "forty-coach",
   "metadata": {},
   "outputs": [
    {
     "data": {
      "text/plain": [
       "array([[1.00000000e+00, 9.31718981e-01, 8.68100259e-01, 5.09428320e+01,\n",
       "        2.59517213e+03],\n",
       "       [1.00000000e+00, 7.96997350e-01, 6.35204776e-01, 5.03129377e+01,\n",
       "        2.53139170e+03],\n",
       "       [1.00000000e+00, 1.11560347e+00, 1.24457110e+00, 5.01561936e+01,\n",
       "        2.51564376e+03],\n",
       "       ...,\n",
       "       [1.00000000e+00, 9.99275165e+01, 9.98550856e+03, 2.00740081e+02,\n",
       "        4.02965802e+04],\n",
       "       [1.00000000e+00, 1.00119925e+02, 1.00239994e+04, 2.00831178e+02,\n",
       "        4.03331622e+04],\n",
       "       [1.00000000e+00, 1.00062230e+02, 1.00124499e+04, 2.00797175e+02,\n",
       "        4.03195053e+04]])"
      ]
     },
     "execution_count": 7,
     "metadata": {},
     "output_type": "execute_result"
    }
   ],
   "source": [
    "X = transform(np.copy(x),2)\n",
    "X"
   ]
  },
  {
   "cell_type": "code",
   "execution_count": 9,
   "id": "dramatic-occupation",
   "metadata": {},
   "outputs": [
    {
     "data": {
      "text/plain": [
       "Text(0.5, 1.0, 'Cost Function')"
      ]
     },
     "execution_count": 9,
     "metadata": {},
     "output_type": "execute_result"
    },
    {
     "data": {
      "image/png": "[encoded data removed]",
      "text/plain": [
       "<Figure size 432x288 with 1 Axes>"
      ]
     },
     "metadata": {
      "needs_background": "light"
     },
     "output_type": "display_data"
    }
   ],
   "source": [
    "m, n = X.shape\n",
    "theta_0 = np.random.rand(n,1)\n",
    "\n",
    "theta, costs = gradient_descent(\n",
    "    X[0:1000,:],\n",
    "    y[1000],\n",
    "    theta_0,\n",
    "    linear_cost,\n",
    "    linear_cost_gradient,\n",
    "    learning_rate=0.0000001,\n",
    "    threshold=0.01,\n",
    "    max_iter=1000\n",
    ")\n",
    "\n",
    "\n",
    "plt.plot(costs[:])\n",
    "plt.xlabel('Iterations')\n",
    "plt.ylabel('Cost')\n",
    "plt.title('Cost Function')\n",
    "\n"
   ]
  },
  {
   "cell_type": "code",
   "execution_count": null,
   "id": "juvenile-square",
   "metadata": {},
   "outputs": [],
   "source": []
  }
 ],
 "metadata": {
  "kernelspec": {
   "display_name": "Python 3",
   "language": "python",
   "name": "python3"
  },
  "language_info": {
   "codemirror_mode": {
    "name": "ipython",
    "version": 3
   },
   "file_extension": ".py",
   "mimetype": "text/x-python",
   "name": "python",
   "nbconvert_exporter": "python",
   "pygments_lexer": "ipython3",
   "version": "3.9.1"
  }
 },
 "nbformat": 4,
 "nbformat_minor": 5
}
